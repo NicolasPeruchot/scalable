{
 "cells": [
  {
   "cell_type": "markdown",
   "metadata": {},
   "source": [
    "# Modeling\n",
    "## Predict recommended games\n",
    "\n",
    "In this part, we will recommend new games, based on a certain user or on a game.\n",
    "\n",
    "This is therefore an unsupervised task. I chose to work with graphs and the Adamic-Adar algorithm: the idea is to find the most appropriate game, which will correspond to a node. "
   ]
  },
  {
   "cell_type": "code",
   "execution_count": 1,
   "metadata": {},
   "outputs": [
    {
     "name": "stdout",
     "output_type": "stream",
     "text": [
      "/Users/nicolas.peruchot/workdir/scalable\n"
     ]
    }
   ],
   "source": [
    "cd .."
   ]
  },
  {
   "cell_type": "code",
   "execution_count": 2,
   "metadata": {},
   "outputs": [],
   "source": [
    "import pandas as pd\n",
    "\n",
    "\n",
    "\n",
    "from steam_challenge.preprocessing.preprocessing_items import items_preprocessing\n",
    "from steam_challenge.preprocessing.preprocessing_reviews import reviews_preprocessing\n",
    "from steam_challenge.preprocessing.preprocessing_users import users_preprocessing\n",
    "\n",
    "from steam_challenge.graph_recommender.utils import create_graph, recommender_games,recommender_users\n",
    "from steam_challenge.graph_recommender.prediction import plot_result_games, plot_result_users\n",
    "pd.options.mode.chained_assignment = None"
   ]
  },
  {
   "cell_type": "code",
   "execution_count": 3,
   "metadata": {},
   "outputs": [],
   "source": [
    "reviews=pd.read_json(\"data/reviews.json\",orient='records')\n",
    "users=pd.read_json(\"data/users.json\",orient='records')\n",
    "items=pd.read_json(\"data/items.json\",orient='records')\n",
    "\n",
    "reviews=reviews_preprocessing(reviews)\n",
    "users=users_preprocessing(users)\n",
    "items=items_preprocessing(items)"
   ]
  },
  {
   "cell_type": "markdown",
   "metadata": {},
   "source": [
    "We will create the graph thanks to the _reviews_ and _items_ datasets:\n",
    "\n",
    "- We will link each game with its genres, specs, tags and developer, thanks to the _items_ dataset\n",
    "- We will link users with the games they recommend thanks to the _reviews_ dataset"
   ]
  },
  {
   "cell_type": "code",
   "execution_count": 4,
   "metadata": {},
   "outputs": [],
   "source": [
    "G=create_graph(items=items,reviews=reviews)"
   ]
  },
  {
   "cell_type": "markdown",
   "metadata": {},
   "source": [
    "We will try our model for similar games recommendation with the game Assassin’s Creed® Brotherhood. We expect to find other games from this franchise."
   ]
  },
  {
   "cell_type": "code",
   "execution_count": 5,
   "metadata": {},
   "outputs": [
    {
     "name": "stdout",
     "output_type": "stream",
     "text": [
      "5 recommendation(s) for: Assassin’s Creed® Brotherhood:\n",
      "\n",
      "\n",
      "Assassin’s Creed® III\n",
      "Assassin's Creed 2 Deluxe Edition\n",
      "Assassin's Creed™: Director's Cut Edition\n",
      "Assassin’s Creed® IV Black Flag™\n",
      "STAR WARS™ - Knights of the Old Republic™\n"
     ]
    }
   ],
   "source": [
    "plot_result_games(G=G,data=items,top=5)"
   ]
  },
  {
   "cell_type": "markdown",
   "metadata": {},
   "source": [
    "As expected, we get recommendations for other games of the franchise. We will now tweak this first model and adapt it to recommend games for a user:"
   ]
  },
  {
   "cell_type": "code",
   "execution_count": 6,
   "metadata": {},
   "outputs": [
    {
     "name": "stdout",
     "output_type": "stream",
     "text": [
      "Owned: Left 4 Dead 2\n",
      "Recommendations:\n",
      "The Darkness II\n",
      "Hammerwatch\n",
      "Just Cause™ 3\n",
      "Grand Theft Auto: Vice City\n",
      "Fallout 4\n"
     ]
    }
   ],
   "source": [
    "plot_result_users(G=G,data=items,root_user=\"-Beave-\",top=5)"
   ]
  },
  {
   "cell_type": "markdown",
   "metadata": {},
   "source": [
    "For example, this user only likes one game (Left 4 Dead 2), and therefore gets recommendation for similar games (Shooter). The recommendation for users is harder with this model, because the only informations that we have for a given user is the games this user likes. Sometimes, a user only likes one very popular game, which gives very general recommendations."
   ]
  },
  {
   "cell_type": "markdown",
   "metadata": {},
   "source": []
  }
 ],
 "metadata": {
  "interpreter": {
   "hash": "917c88bc9b00e58545945031d0da36a63c3b3b63e3fa7d3b2f2036592d880239"
  },
  "kernelspec": {
   "display_name": "Python 3.9.5 64-bit ('venv': venv)",
   "name": "python3"
  },
  "language_info": {
   "codemirror_mode": {
    "name": "ipython",
    "version": 3
   },
   "file_extension": ".py",
   "mimetype": "text/x-python",
   "name": "python",
   "nbconvert_exporter": "python",
   "pygments_lexer": "ipython3",
   "version": "3.9.5"
  },
  "orig_nbformat": 4
 },
 "nbformat": 4,
 "nbformat_minor": 2
}
