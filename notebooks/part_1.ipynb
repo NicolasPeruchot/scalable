{
 "cells": [
  {
   "cell_type": "markdown",
   "metadata": {},
   "source": [
    "# Data Analysis\n",
    "\n",
    "In this part, we will explore the dataset."
   ]
  },
  {
   "cell_type": "code",
   "execution_count": 1,
   "metadata": {},
   "outputs": [
    {
     "name": "stdout",
     "output_type": "stream",
     "text": [
      "/Users/nicolas.peruchot/workdir/scalable\n"
     ]
    }
   ],
   "source": [
    "cd .."
   ]
  },
  {
   "cell_type": "code",
   "execution_count": 2,
   "metadata": {},
   "outputs": [],
   "source": [
    "import pandas as pd\n",
    "import seaborn as sns\n",
    "from steam_challenge.preprocessing.preprocessing_items import items_preprocessing\n",
    "from steam_challenge.preprocessing.preprocessing_reviews import reviews_preprocessing\n",
    "from steam_challenge.preprocessing.preprocessing_users import users_preprocessing\n",
    "from steam_challenge.preprocessing.plot import plot_sns, get_dup, get_missing\n",
    "pd.options.mode.chained_assignment = None"
   ]
  },
  {
   "cell_type": "markdown",
   "metadata": {},
   "source": [
    "We start by loading the different datasets as Dataframes:"
   ]
  },
  {
   "cell_type": "code",
   "execution_count": 3,
   "metadata": {},
   "outputs": [],
   "source": [
    "reviews=pd.read_json(\"data/reviews.json\",orient='records')\n",
    "users=pd.read_json(\"data/users.json\",orient='records')\n",
    "items=pd.read_json(\"data/items.json\",orient='records')"
   ]
  },
  {
   "cell_type": "markdown",
   "metadata": {},
   "source": [
    "## _reviews_ dataset\n",
    "Let's have a look at the \"reviews\" dataset:"
   ]
  },
  {
   "cell_type": "code",
   "execution_count": 4,
   "metadata": {},
   "outputs": [
    {
     "data": {
      "text/html": [
       "<div>\n",
       "<style scoped>\n",
       "    .dataframe tbody tr th:only-of-type {\n",
       "        vertical-align: middle;\n",
       "    }\n",
       "\n",
       "    .dataframe tbody tr th {\n",
       "        vertical-align: top;\n",
       "    }\n",
       "\n",
       "    .dataframe thead th {\n",
       "        text-align: right;\n",
       "    }\n",
       "</style>\n",
       "<table border=\"1\" class=\"dataframe\">\n",
       "  <thead>\n",
       "    <tr style=\"text-align: right;\">\n",
       "      <th></th>\n",
       "      <th>funny</th>\n",
       "      <th>helpful</th>\n",
       "      <th>item_id</th>\n",
       "      <th>last_edited</th>\n",
       "      <th>posted</th>\n",
       "      <th>recommend</th>\n",
       "      <th>review</th>\n",
       "      <th>user_id</th>\n",
       "    </tr>\n",
       "  </thead>\n",
       "  <tbody>\n",
       "    <tr>\n",
       "      <th>0</th>\n",
       "      <td></td>\n",
       "      <td>No ratings yet</td>\n",
       "      <td>1250</td>\n",
       "      <td></td>\n",
       "      <td>Posted November 5, 2011.</td>\n",
       "      <td>True</td>\n",
       "      <td>Simple yet with great replayability. In my opi...</td>\n",
       "      <td>76561197970982479</td>\n",
       "    </tr>\n",
       "    <tr>\n",
       "      <th>1</th>\n",
       "      <td></td>\n",
       "      <td>No ratings yet</td>\n",
       "      <td>22200</td>\n",
       "      <td></td>\n",
       "      <td>Posted July 15, 2011.</td>\n",
       "      <td>True</td>\n",
       "      <td>It's unique and worth a playthrough.</td>\n",
       "      <td>76561197970982479</td>\n",
       "    </tr>\n",
       "    <tr>\n",
       "      <th>2</th>\n",
       "      <td></td>\n",
       "      <td>No ratings yet</td>\n",
       "      <td>43110</td>\n",
       "      <td></td>\n",
       "      <td>Posted April 21, 2011.</td>\n",
       "      <td>True</td>\n",
       "      <td>Great atmosphere. The gunplay can be a bit chu...</td>\n",
       "      <td>76561197970982479</td>\n",
       "    </tr>\n",
       "    <tr>\n",
       "      <th>3</th>\n",
       "      <td></td>\n",
       "      <td>15 of 20 people (75%) found this review helpful</td>\n",
       "      <td>251610</td>\n",
       "      <td></td>\n",
       "      <td>Posted June 24, 2014.</td>\n",
       "      <td>True</td>\n",
       "      <td>I know what you think when you see this title ...</td>\n",
       "      <td>js41637</td>\n",
       "    </tr>\n",
       "    <tr>\n",
       "      <th>4</th>\n",
       "      <td></td>\n",
       "      <td>0 of 1 people (0%) found this review helpful</td>\n",
       "      <td>227300</td>\n",
       "      <td></td>\n",
       "      <td>Posted September 8, 2013.</td>\n",
       "      <td>True</td>\n",
       "      <td>For a simple (it's actually not all that simpl...</td>\n",
       "      <td>js41637</td>\n",
       "    </tr>\n",
       "  </tbody>\n",
       "</table>\n",
       "</div>"
      ],
      "text/plain": [
       "  funny                                          helpful  item_id last_edited  \\\n",
       "0                                         No ratings yet     1250               \n",
       "1                                         No ratings yet    22200               \n",
       "2                                         No ratings yet    43110               \n",
       "3        15 of 20 people (75%) found this review helpful   251610               \n",
       "4           0 of 1 people (0%) found this review helpful   227300               \n",
       "\n",
       "                      posted  recommend  \\\n",
       "0   Posted November 5, 2011.       True   \n",
       "1      Posted July 15, 2011.       True   \n",
       "2     Posted April 21, 2011.       True   \n",
       "3      Posted June 24, 2014.       True   \n",
       "4  Posted September 8, 2013.       True   \n",
       "\n",
       "                                              review            user_id  \n",
       "0  Simple yet with great replayability. In my opi...  76561197970982479  \n",
       "1               It's unique and worth a playthrough.  76561197970982479  \n",
       "2  Great atmosphere. The gunplay can be a bit chu...  76561197970982479  \n",
       "3  I know what you think when you see this title ...            js41637  \n",
       "4  For a simple (it's actually not all that simpl...            js41637  "
      ]
     },
     "execution_count": 4,
     "metadata": {},
     "output_type": "execute_result"
    }
   ],
   "source": [
    "reviews.head()"
   ]
  },
  {
   "cell_type": "code",
   "execution_count": 5,
   "metadata": {},
   "outputs": [
    {
     "name": "stdout",
     "output_type": "stream",
     "text": [
      "Frequence of missing values in each columns:\n",
      " funny          0.0\n",
      "helpful        0.0\n",
      "item_id        0.0\n",
      "last_edited    0.0\n",
      "posted         0.0\n",
      "recommend      0.0\n",
      "review         0.0\n",
      "user_id        0.0\n",
      "dtype: float64\n"
     ]
    }
   ],
   "source": [
    "print(get_missing(reviews))"
   ]
  },
  {
   "cell_type": "code",
   "execution_count": 6,
   "metadata": {},
   "outputs": [
    {
     "name": "stdout",
     "output_type": "stream",
     "text": [
      "Frequence of duplicated rows: \n",
      "0.01\n"
     ]
    }
   ],
   "source": [
    "print(get_dup(reviews))"
   ]
  },
  {
   "cell_type": "markdown",
   "metadata": {},
   "source": [
    "- We observe some columns that might not be useful for later, like the _posted_ and _last_edited_ columns. We will assume that even if these time related features could be interessting, some will carry more information, like the playtime. We will therefore get rid of these two columns.\n",
    "\n",
    "\n",
    "- We will also not use the _review_ column, and assume that the other features are sufficient. Otherwise, it could be totally possible to keep this column to perform an NLP analysis.\n",
    "\n",
    "- We will replace the sentence in the _helpful_ column by the pourcentage, if there is one. When a percentage is not provided, we will replace the sentence by a 0 as no one found the review useful. We also take care of the duplicated rows.\n",
    "\n",
    "- Finally, we replace the _funny_ feature by a 1 if someone found the review funny, or by a 0 otherwise.\n"
   ]
  },
  {
   "cell_type": "code",
   "execution_count": 7,
   "metadata": {},
   "outputs": [],
   "source": [
    "reviews=reviews_preprocessing(reviews)"
   ]
  },
  {
   "cell_type": "code",
   "execution_count": 8,
   "metadata": {},
   "outputs": [
    {
     "data": {
      "text/html": [
       "<div>\n",
       "<style scoped>\n",
       "    .dataframe tbody tr th:only-of-type {\n",
       "        vertical-align: middle;\n",
       "    }\n",
       "\n",
       "    .dataframe tbody tr th {\n",
       "        vertical-align: top;\n",
       "    }\n",
       "\n",
       "    .dataframe thead th {\n",
       "        text-align: right;\n",
       "    }\n",
       "</style>\n",
       "<table border=\"1\" class=\"dataframe\">\n",
       "  <thead>\n",
       "    <tr style=\"text-align: right;\">\n",
       "      <th></th>\n",
       "      <th>funny</th>\n",
       "      <th>helpful</th>\n",
       "      <th>item_id</th>\n",
       "      <th>recommend</th>\n",
       "      <th>user_id</th>\n",
       "    </tr>\n",
       "  </thead>\n",
       "  <tbody>\n",
       "    <tr>\n",
       "      <th>0</th>\n",
       "      <td>0</td>\n",
       "      <td>0</td>\n",
       "      <td>1250</td>\n",
       "      <td>True</td>\n",
       "      <td>76561197970982479</td>\n",
       "    </tr>\n",
       "    <tr>\n",
       "      <th>1</th>\n",
       "      <td>0</td>\n",
       "      <td>0</td>\n",
       "      <td>22200</td>\n",
       "      <td>True</td>\n",
       "      <td>76561197970982479</td>\n",
       "    </tr>\n",
       "    <tr>\n",
       "      <th>2</th>\n",
       "      <td>0</td>\n",
       "      <td>0</td>\n",
       "      <td>43110</td>\n",
       "      <td>True</td>\n",
       "      <td>76561197970982479</td>\n",
       "    </tr>\n",
       "    <tr>\n",
       "      <th>3</th>\n",
       "      <td>0</td>\n",
       "      <td>75</td>\n",
       "      <td>251610</td>\n",
       "      <td>True</td>\n",
       "      <td>js41637</td>\n",
       "    </tr>\n",
       "    <tr>\n",
       "      <th>4</th>\n",
       "      <td>0</td>\n",
       "      <td>0</td>\n",
       "      <td>227300</td>\n",
       "      <td>True</td>\n",
       "      <td>js41637</td>\n",
       "    </tr>\n",
       "  </tbody>\n",
       "</table>\n",
       "</div>"
      ],
      "text/plain": [
       "   funny helpful  item_id  recommend            user_id\n",
       "0      0       0     1250       True  76561197970982479\n",
       "1      0       0    22200       True  76561197970982479\n",
       "2      0       0    43110       True  76561197970982479\n",
       "3      0      75   251610       True            js41637\n",
       "4      0       0   227300       True            js41637"
      ]
     },
     "execution_count": 8,
     "metadata": {},
     "output_type": "execute_result"
    }
   ],
   "source": [
    "reviews.head()"
   ]
  },
  {
   "cell_type": "code",
   "execution_count": 9,
   "metadata": {},
   "outputs": [
    {
     "name": "stdout",
     "output_type": "stream",
     "text": [
      "Frequence of recommended games: 0.88\n"
     ]
    }
   ],
   "source": [
    "pos=round(sum(reviews.recommend)/len(reviews),2)\n",
    "print(f\"Frequence of recommended games: {pos}\")"
   ]
  },
  {
   "cell_type": "markdown",
   "metadata": {},
   "source": [
    "We can plot the distribution of the recommended games according to the percentage of users that found the review useful. As we saw, the dataset is unbalanced so we normalize the data before plotting."
   ]
  },
  {
   "cell_type": "code",
   "execution_count": 10,
   "metadata": {},
   "outputs": [
    {
     "data": {
      "image/png": "[encoded data removed]",
      "text/plain": [
       "<Figure size 427.625x360 with 1 Axes>"
      ]
     },
     "metadata": {
      "needs_background": "light"
     },
     "output_type": "display_data"
    }
   ],
   "source": [
    "plot_sns(reviews,\"helpful\",hue='recommend')"
   ]
  },
  {
   "cell_type": "markdown",
   "metadata": {},
   "source": [
    "We observe that when a review is found helpful by all user, the game has a great chance to be recommended. We then do the same plot for the _funny_ feature:"
   ]
  },
  {
   "cell_type": "code",
   "execution_count": 11,
   "metadata": {},
   "outputs": [
    {
     "data": {
      "image/png": "[encoded data removed]",
      "text/plain": [
       "<Figure size 427.625x360 with 1 Axes>"
      ]
     },
     "metadata": {
      "needs_background": "light"
     },
     "output_type": "display_data"
    }
   ],
   "source": [
    "plot_sns(reviews,\"funny\",hue=\"recommend\")"
   ]
  },
  {
   "cell_type": "markdown",
   "metadata": {},
   "source": [
    "We don't observe anything specific."
   ]
  },
  {
   "cell_type": "markdown",
   "metadata": {},
   "source": [
    "## _users_ dataset\n",
    "\n",
    "Let's have a look at this second dataset:"
   ]
  },
  {
   "cell_type": "code",
   "execution_count": 12,
   "metadata": {},
   "outputs": [
    {
     "data": {
      "text/html": [
       "<div>\n",
       "<style scoped>\n",
       "    .dataframe tbody tr th:only-of-type {\n",
       "        vertical-align: middle;\n",
       "    }\n",
       "\n",
       "    .dataframe tbody tr th {\n",
       "        vertical-align: top;\n",
       "    }\n",
       "\n",
       "    .dataframe thead th {\n",
       "        text-align: right;\n",
       "    }\n",
       "</style>\n",
       "<table border=\"1\" class=\"dataframe\">\n",
       "  <thead>\n",
       "    <tr style=\"text-align: right;\">\n",
       "      <th></th>\n",
       "      <th>item_id</th>\n",
       "      <th>playtime</th>\n",
       "      <th>user_id</th>\n",
       "    </tr>\n",
       "  </thead>\n",
       "  <tbody>\n",
       "    <tr>\n",
       "      <th>0</th>\n",
       "      <td>1250</td>\n",
       "      <td>2949</td>\n",
       "      <td>--000--</td>\n",
       "    </tr>\n",
       "    <tr>\n",
       "      <th>1</th>\n",
       "      <td>389570</td>\n",
       "      <td>121</td>\n",
       "      <td>--ace--</td>\n",
       "    </tr>\n",
       "    <tr>\n",
       "      <th>2</th>\n",
       "      <td>113200</td>\n",
       "      <td>1269</td>\n",
       "      <td>--ace--</td>\n",
       "    </tr>\n",
       "    <tr>\n",
       "      <th>3</th>\n",
       "      <td>730</td>\n",
       "      <td>35478</td>\n",
       "      <td>--ionex--</td>\n",
       "    </tr>\n",
       "    <tr>\n",
       "      <th>4</th>\n",
       "      <td>105600</td>\n",
       "      <td>842</td>\n",
       "      <td>--ionex--</td>\n",
       "    </tr>\n",
       "  </tbody>\n",
       "</table>\n",
       "</div>"
      ],
      "text/plain": [
       "   item_id  playtime    user_id\n",
       "0     1250      2949    --000--\n",
       "1   389570       121    --ace--\n",
       "2   113200      1269    --ace--\n",
       "3      730     35478  --ionex--\n",
       "4   105600       842  --ionex--"
      ]
     },
     "execution_count": 12,
     "metadata": {},
     "output_type": "execute_result"
    }
   ],
   "source": [
    "users.head()"
   ]
  },
  {
   "cell_type": "code",
   "execution_count": 13,
   "metadata": {},
   "outputs": [
    {
     "name": "stdout",
     "output_type": "stream",
     "text": [
      "Frequence of missing values in each columns:\n",
      " item_id     0.0\n",
      "playtime    0.0\n",
      "user_id     0.0\n",
      "dtype: float64\n"
     ]
    }
   ],
   "source": [
    "print(get_missing(users))"
   ]
  },
  {
   "cell_type": "code",
   "execution_count": 14,
   "metadata": {},
   "outputs": [
    {
     "name": "stdout",
     "output_type": "stream",
     "text": [
      "Frequence of duplicated rows: \n",
      "0.03\n"
     ]
    }
   ],
   "source": [
    "print(get_dup(users))"
   ]
  },
  {
   "cell_type": "code",
   "execution_count": 15,
   "metadata": {},
   "outputs": [
    {
     "data": {
      "text/plain": [
       "<seaborn.axisgrid.FacetGrid at 0x133c0e100>"
      ]
     },
     "execution_count": 15,
     "metadata": {},
     "output_type": "execute_result"
    },
    {
     "data": {
      "image/png": "[encoded data removed]",
      "text/plain": [
       "<Figure size 360x360 with 1 Axes>"
      ]
     },
     "metadata": {
      "needs_background": "light"
     },
     "output_type": "display_data"
    }
   ],
   "source": [
    "sns.displot(users,x='playtime',kind='kde')"
   ]
  },
  {
   "cell_type": "markdown",
   "metadata": {},
   "source": [
    "This dataset doesn't have missing values, but we observe outliers if we look at the _playtime_. We will get rid of the values above 50000, assuming the time is in hours. It represents almost 6 years, which is huge for only one game. We then take care of the duplicated rows. "
   ]
  },
  {
   "cell_type": "code",
   "execution_count": 16,
   "metadata": {},
   "outputs": [],
   "source": [
    "users=users_preprocessing(users)"
   ]
  },
  {
   "cell_type": "markdown",
   "metadata": {},
   "source": [
    "## _items_ dataset\n",
    "\n",
    "Let's have a look at the last dataset:"
   ]
  },
  {
   "cell_type": "code",
   "execution_count": 17,
   "metadata": {},
   "outputs": [
    {
     "data": {
      "text/html": [
       "<div>\n",
       "<style scoped>\n",
       "    .dataframe tbody tr th:only-of-type {\n",
       "        vertical-align: middle;\n",
       "    }\n",
       "\n",
       "    .dataframe tbody tr th {\n",
       "        vertical-align: top;\n",
       "    }\n",
       "\n",
       "    .dataframe thead th {\n",
       "        text-align: right;\n",
       "    }\n",
       "</style>\n",
       "<table border=\"1\" class=\"dataframe\">\n",
       "  <thead>\n",
       "    <tr style=\"text-align: right;\">\n",
       "      <th></th>\n",
       "      <th>app_name</th>\n",
       "      <th>developer</th>\n",
       "      <th>discount_price</th>\n",
       "      <th>early_access</th>\n",
       "      <th>genres</th>\n",
       "      <th>id</th>\n",
       "      <th>metascore</th>\n",
       "      <th>price</th>\n",
       "      <th>publisher</th>\n",
       "      <th>release_date</th>\n",
       "      <th>reviews_url</th>\n",
       "      <th>sentiment</th>\n",
       "      <th>specs</th>\n",
       "      <th>tags</th>\n",
       "      <th>title</th>\n",
       "      <th>url</th>\n",
       "    </tr>\n",
       "  </thead>\n",
       "  <tbody>\n",
       "    <tr>\n",
       "      <th>0</th>\n",
       "      <td>Lost Summoner Kitty</td>\n",
       "      <td>Kotoshiro</td>\n",
       "      <td>4.49</td>\n",
       "      <td>False</td>\n",
       "      <td>['Action', 'Casual', 'Indie', 'Simulation', 'S...</td>\n",
       "      <td>761140.0</td>\n",
       "      <td>NaN</td>\n",
       "      <td>4.99</td>\n",
       "      <td>Kotoshiro</td>\n",
       "      <td>2018-01-04</td>\n",
       "      <td>http://steamcommunity.com/app/761140/reviews/?...</td>\n",
       "      <td>None</td>\n",
       "      <td>['Single-player']</td>\n",
       "      <td>['Strategy', 'Action', 'Indie', 'Casual', 'Sim...</td>\n",
       "      <td>Lost Summoner Kitty</td>\n",
       "      <td>http://store.steampowered.com/app/761140/Lost_...</td>\n",
       "    </tr>\n",
       "    <tr>\n",
       "      <th>1</th>\n",
       "      <td>Ironbound</td>\n",
       "      <td>Secret Level SRL</td>\n",
       "      <td>NaN</td>\n",
       "      <td>False</td>\n",
       "      <td>['Free to Play', 'Indie', 'RPG', 'Strategy']</td>\n",
       "      <td>643980.0</td>\n",
       "      <td>NaN</td>\n",
       "      <td>Free To Play</td>\n",
       "      <td>Making Fun, Inc.</td>\n",
       "      <td>2018-01-04</td>\n",
       "      <td>http://steamcommunity.com/app/643980/reviews/?...</td>\n",
       "      <td>Mostly Positive</td>\n",
       "      <td>['Single-player', 'Multi-player', 'Online Mult...</td>\n",
       "      <td>['Free to Play', 'Strategy', 'Indie', 'RPG', '...</td>\n",
       "      <td>Ironbound</td>\n",
       "      <td>http://store.steampowered.com/app/643980/Ironb...</td>\n",
       "    </tr>\n",
       "    <tr>\n",
       "      <th>2</th>\n",
       "      <td>Real Pool 3D - Poolians</td>\n",
       "      <td>Poolians.com</td>\n",
       "      <td>NaN</td>\n",
       "      <td>False</td>\n",
       "      <td>['Casual', 'Free to Play', 'Indie', 'Simulatio...</td>\n",
       "      <td>670290.0</td>\n",
       "      <td>NaN</td>\n",
       "      <td>Free to Play</td>\n",
       "      <td>Poolians.com</td>\n",
       "      <td>2017-07-24</td>\n",
       "      <td>http://steamcommunity.com/app/670290/reviews/?...</td>\n",
       "      <td>Mostly Positive</td>\n",
       "      <td>['Single-player', 'Multi-player', 'Online Mult...</td>\n",
       "      <td>['Free to Play', 'Simulation', 'Sports', 'Casu...</td>\n",
       "      <td>Real Pool 3D - Poolians</td>\n",
       "      <td>http://store.steampowered.com/app/670290/Real_...</td>\n",
       "    </tr>\n",
       "    <tr>\n",
       "      <th>3</th>\n",
       "      <td>弹炸人2222</td>\n",
       "      <td>彼岸领域</td>\n",
       "      <td>0.83</td>\n",
       "      <td>False</td>\n",
       "      <td>['Action', 'Adventure', 'Casual']</td>\n",
       "      <td>767400.0</td>\n",
       "      <td>NaN</td>\n",
       "      <td>0.99</td>\n",
       "      <td>彼岸领域</td>\n",
       "      <td>2017-12-07</td>\n",
       "      <td>http://steamcommunity.com/app/767400/reviews/?...</td>\n",
       "      <td>None</td>\n",
       "      <td>['Single-player']</td>\n",
       "      <td>['Action', 'Adventure', 'Casual']</td>\n",
       "      <td>弹炸人2222</td>\n",
       "      <td>http://store.steampowered.com/app/767400/2222/</td>\n",
       "    </tr>\n",
       "    <tr>\n",
       "      <th>4</th>\n",
       "      <td>Log Challenge</td>\n",
       "      <td>None</td>\n",
       "      <td>1.79</td>\n",
       "      <td>False</td>\n",
       "      <td>None</td>\n",
       "      <td>773570.0</td>\n",
       "      <td>NaN</td>\n",
       "      <td>2.99</td>\n",
       "      <td>None</td>\n",
       "      <td>None</td>\n",
       "      <td>http://steamcommunity.com/app/773570/reviews/?...</td>\n",
       "      <td>None</td>\n",
       "      <td>['Single-player', 'Full controller support', '...</td>\n",
       "      <td>['Action', 'Indie', 'Casual', 'Sports']</td>\n",
       "      <td>None</td>\n",
       "      <td>http://store.steampowered.com/app/773570/Log_C...</td>\n",
       "    </tr>\n",
       "  </tbody>\n",
       "</table>\n",
       "</div>"
      ],
      "text/plain": [
       "                  app_name         developer  discount_price  early_access  \\\n",
       "0      Lost Summoner Kitty         Kotoshiro            4.49         False   \n",
       "1                Ironbound  Secret Level SRL             NaN         False   \n",
       "2  Real Pool 3D - Poolians      Poolians.com             NaN         False   \n",
       "3                  弹炸人2222              彼岸领域            0.83         False   \n",
       "4            Log Challenge              None            1.79         False   \n",
       "\n",
       "                                              genres        id  metascore  \\\n",
       "0  ['Action', 'Casual', 'Indie', 'Simulation', 'S...  761140.0        NaN   \n",
       "1       ['Free to Play', 'Indie', 'RPG', 'Strategy']  643980.0        NaN   \n",
       "2  ['Casual', 'Free to Play', 'Indie', 'Simulatio...  670290.0        NaN   \n",
       "3                  ['Action', 'Adventure', 'Casual']  767400.0        NaN   \n",
       "4                                               None  773570.0        NaN   \n",
       "\n",
       "          price         publisher release_date  \\\n",
       "0          4.99         Kotoshiro   2018-01-04   \n",
       "1  Free To Play  Making Fun, Inc.   2018-01-04   \n",
       "2  Free to Play      Poolians.com   2017-07-24   \n",
       "3          0.99              彼岸领域   2017-12-07   \n",
       "4          2.99              None         None   \n",
       "\n",
       "                                         reviews_url        sentiment  \\\n",
       "0  http://steamcommunity.com/app/761140/reviews/?...             None   \n",
       "1  http://steamcommunity.com/app/643980/reviews/?...  Mostly Positive   \n",
       "2  http://steamcommunity.com/app/670290/reviews/?...  Mostly Positive   \n",
       "3  http://steamcommunity.com/app/767400/reviews/?...             None   \n",
       "4  http://steamcommunity.com/app/773570/reviews/?...             None   \n",
       "\n",
       "                                               specs  \\\n",
       "0                                  ['Single-player']   \n",
       "1  ['Single-player', 'Multi-player', 'Online Mult...   \n",
       "2  ['Single-player', 'Multi-player', 'Online Mult...   \n",
       "3                                  ['Single-player']   \n",
       "4  ['Single-player', 'Full controller support', '...   \n",
       "\n",
       "                                                tags                    title  \\\n",
       "0  ['Strategy', 'Action', 'Indie', 'Casual', 'Sim...      Lost Summoner Kitty   \n",
       "1  ['Free to Play', 'Strategy', 'Indie', 'RPG', '...                Ironbound   \n",
       "2  ['Free to Play', 'Simulation', 'Sports', 'Casu...  Real Pool 3D - Poolians   \n",
       "3                  ['Action', 'Adventure', 'Casual']                  弹炸人2222   \n",
       "4            ['Action', 'Indie', 'Casual', 'Sports']                     None   \n",
       "\n",
       "                                                 url  \n",
       "0  http://store.steampowered.com/app/761140/Lost_...  \n",
       "1  http://store.steampowered.com/app/643980/Ironb...  \n",
       "2  http://store.steampowered.com/app/670290/Real_...  \n",
       "3     http://store.steampowered.com/app/767400/2222/  \n",
       "4  http://store.steampowered.com/app/773570/Log_C...  "
      ]
     },
     "execution_count": 17,
     "metadata": {},
     "output_type": "execute_result"
    }
   ],
   "source": [
    "items.head()"
   ]
  },
  {
   "cell_type": "code",
   "execution_count": 18,
   "metadata": {},
   "outputs": [
    {
     "name": "stdout",
     "output_type": "stream",
     "text": [
      "Frequence of missing values in each columns:\n",
      " app_name          0.000062\n",
      "developer         0.102664\n",
      "discount_price    0.992998\n",
      "early_access      0.000000\n",
      "genres            0.102166\n",
      "id                0.000062\n",
      "metascore         0.918871\n",
      "price             0.042852\n",
      "publisher         0.250887\n",
      "release_date      0.064324\n",
      "reviews_url       0.000062\n",
      "sentiment         0.223502\n",
      "specs             0.020850\n",
      "tags              0.005073\n",
      "title             0.063795\n",
      "url               0.000000\n",
      "dtype: float64\n"
     ]
    }
   ],
   "source": [
    "print(get_missing(items))"
   ]
  },
  {
   "cell_type": "code",
   "execution_count": 19,
   "metadata": {},
   "outputs": [
    {
     "name": "stdout",
     "output_type": "stream",
     "text": [
      "Frequence of duplicated rows: \n",
      "0.0\n"
     ]
    }
   ],
   "source": [
    "print(get_dup(items))"
   ]
  },
  {
   "cell_type": "markdown",
   "metadata": {},
   "source": [
    "- We observe that some of the feature will not be usefull: the features _url_ and *reviews_url* don't bring any information. The feature _title_ seems to be the same as the *app_name* for most of the cases. The *discount_price* and *metascore* features are not available for more than 90% of the data. Finally, the feature _publisher_ is useless, its information is already given by the column _developer_, because a developer as an unique publisher but a publisher can have multiple developers.  We therefore get rid of all these columns.\n",
    "\n",
    "- We will replace the value in the _sentiment_ column with 3 values: 1 if it is positive, -1 if it is negative and 0 if there is no information. For the _price_ feature, we catch the prices with a regex, and set the price to 0 for free games. We also get rid of the rows that don't have a value for the row _id_ or _value_.\n",
    "\n",
    "- We replace the missing value in the _developer_ row by 'Unknown'. For the missing release dates, we replace them by the median date."
   ]
  },
  {
   "cell_type": "code",
   "execution_count": 20,
   "metadata": {},
   "outputs": [],
   "source": [
    "items=items_preprocessing(items)"
   ]
  },
  {
   "cell_type": "code",
   "execution_count": 21,
   "metadata": {},
   "outputs": [
    {
     "data": {
      "text/html": [
       "<div>\n",
       "<style scoped>\n",
       "    .dataframe tbody tr th:only-of-type {\n",
       "        vertical-align: middle;\n",
       "    }\n",
       "\n",
       "    .dataframe tbody tr th {\n",
       "        vertical-align: top;\n",
       "    }\n",
       "\n",
       "    .dataframe thead th {\n",
       "        text-align: right;\n",
       "    }\n",
       "</style>\n",
       "<table border=\"1\" class=\"dataframe\">\n",
       "  <thead>\n",
       "    <tr style=\"text-align: right;\">\n",
       "      <th></th>\n",
       "      <th>app_name</th>\n",
       "      <th>developer</th>\n",
       "      <th>early_access</th>\n",
       "      <th>genres</th>\n",
       "      <th>item_id</th>\n",
       "      <th>price</th>\n",
       "      <th>release_date</th>\n",
       "      <th>sentiment</th>\n",
       "      <th>specs</th>\n",
       "      <th>tags</th>\n",
       "    </tr>\n",
       "  </thead>\n",
       "  <tbody>\n",
       "    <tr>\n",
       "      <th>0</th>\n",
       "      <td>Lost Summoner Kitty</td>\n",
       "      <td>Kotoshiro</td>\n",
       "      <td>0</td>\n",
       "      <td>['Action', 'Casual', 'Indie', 'Simulation', 'S...</td>\n",
       "      <td>761140</td>\n",
       "      <td>4.99</td>\n",
       "      <td>2018-01-04</td>\n",
       "      <td>0</td>\n",
       "      <td>['Single-player']</td>\n",
       "      <td>['Strategy', 'Action', 'Indie', 'Casual', 'Sim...</td>\n",
       "    </tr>\n",
       "    <tr>\n",
       "      <th>1</th>\n",
       "      <td>Ironbound</td>\n",
       "      <td>Secret Level SRL</td>\n",
       "      <td>0</td>\n",
       "      <td>['Free to Play', 'Indie', 'RPG', 'Strategy']</td>\n",
       "      <td>643980</td>\n",
       "      <td>0.00</td>\n",
       "      <td>2018-01-04</td>\n",
       "      <td>1</td>\n",
       "      <td>['Single-player', 'Multi-player', 'Online Mult...</td>\n",
       "      <td>['Free to Play', 'Strategy', 'Indie', 'RPG', '...</td>\n",
       "    </tr>\n",
       "    <tr>\n",
       "      <th>2</th>\n",
       "      <td>Real Pool 3D - Poolians</td>\n",
       "      <td>Poolians.com</td>\n",
       "      <td>0</td>\n",
       "      <td>['Casual', 'Free to Play', 'Indie', 'Simulatio...</td>\n",
       "      <td>670290</td>\n",
       "      <td>0.00</td>\n",
       "      <td>2017-07-24</td>\n",
       "      <td>1</td>\n",
       "      <td>['Single-player', 'Multi-player', 'Online Mult...</td>\n",
       "      <td>['Free to Play', 'Simulation', 'Sports', 'Casu...</td>\n",
       "    </tr>\n",
       "    <tr>\n",
       "      <th>3</th>\n",
       "      <td>弹炸人2222</td>\n",
       "      <td>彼岸领域</td>\n",
       "      <td>0</td>\n",
       "      <td>['Action', 'Adventure', 'Casual']</td>\n",
       "      <td>767400</td>\n",
       "      <td>0.99</td>\n",
       "      <td>2017-12-07</td>\n",
       "      <td>0</td>\n",
       "      <td>['Single-player']</td>\n",
       "      <td>['Action', 'Adventure', 'Casual']</td>\n",
       "    </tr>\n",
       "    <tr>\n",
       "      <th>4</th>\n",
       "      <td>Log Challenge</td>\n",
       "      <td>Unknown</td>\n",
       "      <td>0</td>\n",
       "      <td>None</td>\n",
       "      <td>773570</td>\n",
       "      <td>2.99</td>\n",
       "      <td>2016-04-26</td>\n",
       "      <td>0</td>\n",
       "      <td>['Single-player', 'Full controller support', '...</td>\n",
       "      <td>['Action', 'Indie', 'Casual', 'Sports']</td>\n",
       "    </tr>\n",
       "  </tbody>\n",
       "</table>\n",
       "</div>"
      ],
      "text/plain": [
       "                  app_name         developer  early_access  \\\n",
       "0      Lost Summoner Kitty         Kotoshiro             0   \n",
       "1                Ironbound  Secret Level SRL             0   \n",
       "2  Real Pool 3D - Poolians      Poolians.com             0   \n",
       "3                  弹炸人2222              彼岸领域             0   \n",
       "4            Log Challenge           Unknown             0   \n",
       "\n",
       "                                              genres  item_id  price  \\\n",
       "0  ['Action', 'Casual', 'Indie', 'Simulation', 'S...   761140   4.99   \n",
       "1       ['Free to Play', 'Indie', 'RPG', 'Strategy']   643980   0.00   \n",
       "2  ['Casual', 'Free to Play', 'Indie', 'Simulatio...   670290   0.00   \n",
       "3                  ['Action', 'Adventure', 'Casual']   767400   0.99   \n",
       "4                                               None   773570   2.99   \n",
       "\n",
       "  release_date  sentiment                                              specs  \\\n",
       "0   2018-01-04          0                                  ['Single-player']   \n",
       "1   2018-01-04          1  ['Single-player', 'Multi-player', 'Online Mult...   \n",
       "2   2017-07-24          1  ['Single-player', 'Multi-player', 'Online Mult...   \n",
       "3   2017-12-07          0                                  ['Single-player']   \n",
       "4   2016-04-26          0  ['Single-player', 'Full controller support', '...   \n",
       "\n",
       "                                                tags  \n",
       "0  ['Strategy', 'Action', 'Indie', 'Casual', 'Sim...  \n",
       "1  ['Free to Play', 'Strategy', 'Indie', 'RPG', '...  \n",
       "2  ['Free to Play', 'Simulation', 'Sports', 'Casu...  \n",
       "3                  ['Action', 'Adventure', 'Casual']  \n",
       "4            ['Action', 'Indie', 'Casual', 'Sports']  "
      ]
     },
     "execution_count": 21,
     "metadata": {},
     "output_type": "execute_result"
    }
   ],
   "source": [
    "items.head()"
   ]
  },
  {
   "cell_type": "markdown",
   "metadata": {},
   "source": [
    "We can observe the distribution of the sentiment toward the games depending on the price (for prices under 45$)."
   ]
  },
  {
   "cell_type": "code",
   "execution_count": 22,
   "metadata": {},
   "outputs": [
    {
     "data": {
      "image/png": "[encoded data removed]",
      "text/plain": [
       "<Figure size 418.5x360 with 1 Axes>"
      ]
     },
     "metadata": {
      "needs_background": "light"
     },
     "output_type": "display_data"
    }
   ],
   "source": [
    "plot_sns(items[items.price<45],feature=\"price\",hue='sentiment')"
   ]
  },
  {
   "cell_type": "markdown",
   "metadata": {},
   "source": [
    "It seems that that expensive games are more appreciated."
   ]
  },
  {
   "cell_type": "markdown",
   "metadata": {},
   "source": [
    "We will take care of the last features (_tags_, _specs_, _genres_) in the next part."
   ]
  }
 ],
 "metadata": {
  "interpreter": {
   "hash": "917c88bc9b00e58545945031d0da36a63c3b3b63e3fa7d3b2f2036592d880239"
  },
  "kernelspec": {
   "display_name": "Python 3.9.5 64-bit ('venv': venv)",
   "name": "python3"
  },
  "language_info": {
   "codemirror_mode": {
    "name": "ipython",
    "version": 3
   },
   "file_extension": ".py",
   "mimetype": "text/x-python",
   "name": "python",
   "nbconvert_exporter": "python",
   "pygments_lexer": "ipython3",
   "version": "3.9.5"
  },
  "orig_nbformat": 4
 },
 "nbformat": 4,
 "nbformat_minor": 2
}
