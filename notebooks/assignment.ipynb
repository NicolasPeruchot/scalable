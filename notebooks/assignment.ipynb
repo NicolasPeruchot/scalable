{
 "cells": [
  {
   "cell_type": "markdown",
   "id": "8e64071d",
   "metadata": {
    "tags": []
   },
   "source": [
    "# Scalable Capital Data Science Test Assignment"
   ]
  },
  {
   "cell_type": "markdown",
   "id": "28a284f9",
   "metadata": {},
   "source": [
    "## Description\n",
    "\n",
    "Welcome to the Scalable Capital Data Science Test Assignment! <br>\n",
    "In this assignment, you are given a dataset with which you can demonstrate skills that are typically required for a data analyst/scientist position. <br>\n",
    "These skills consist of the following (non-exhaustive) list of items:\n",
    "- Exploratory Data Analysis\n",
    "- Data Cleaning and Preprocessing\n",
    "- Feature Engineering\n",
    "- Model Building\n",
    "- Model Evaluation"
   ]
  },
  {
   "cell_type": "markdown",
   "id": "5d785724",
   "metadata": {},
   "source": [
    "### Data Description\n",
    "The dataset in this assignment is a gaming dataset from [Steam](http://store.steampowered.com). The objective is to \n",
    "1. understand and learn interesting patterns in the dataset\n",
    "2. make predictions whether a user would recommend an item (game) or not\n",
    "3. and, for a given item, provide a recommendation of 5 similar items. \n",
    "\n",
    "In `reviews.json`, you'll find reviews given by users to certain games, and whether they would recommend the games or not. <br>\n",
    "In `users.json`, you can see the number of hours the users spend on the games. <br>\n",
    "In `items.json`, metadata about games are provided."
   ]
  },
  {
   "cell_type": "markdown",
   "id": "312a33db",
   "metadata": {},
   "source": [
    "**Important:**\n",
    "\n",
    "To aid you through the assignment, we provide a structure that we think is suitable for the project. Nevertheless, you are free to re-structure it in any other way you consider as reasonable. <br>\n",
    "Feel free to install any library that you need. If you do, please provide an accompanying `requirements.txt` file.<br>\n",
    "We encourage you to use comment to explain your thought process and logic."
   ]
  },
  {
   "cell_type": "code",
   "execution_count": 1,
   "id": "fe00ad35",
   "metadata": {},
   "outputs": [
    {
     "ename": "ModuleNotFoundError",
     "evalue": "No module named 'pandas'",
     "output_type": "error",
     "traceback": [
      "\u001b[0;31m---------------------------------------------------------------------------\u001b[0m",
      "\u001b[0;31mModuleNotFoundError\u001b[0m                       Traceback (most recent call last)",
      "\u001b[0;32m/var/folders/xc/b15j6cj52p5dysyc2jp970ph0000gs/T/ipykernel_95124/752457957.py\u001b[0m in \u001b[0;36m<module>\u001b[0;34m\u001b[0m\n\u001b[0;32m----> 1\u001b[0;31m \u001b[0;32mimport\u001b[0m \u001b[0mpandas\u001b[0m \u001b[0;32mas\u001b[0m \u001b[0mpd\u001b[0m\u001b[0;34m\u001b[0m\u001b[0;34m\u001b[0m\u001b[0m\n\u001b[0m\u001b[1;32m      2\u001b[0m \u001b[0;32mimport\u001b[0m \u001b[0mnumpy\u001b[0m \u001b[0;32mas\u001b[0m \u001b[0mnp\u001b[0m\u001b[0;34m\u001b[0m\u001b[0;34m\u001b[0m\u001b[0m\n\u001b[1;32m      3\u001b[0m \u001b[0;32mimport\u001b[0m \u001b[0mdatetime\u001b[0m\u001b[0;34m\u001b[0m\u001b[0;34m\u001b[0m\u001b[0m\n\u001b[1;32m      4\u001b[0m \u001b[0;32mimport\u001b[0m \u001b[0mmatplotlib\u001b[0m\u001b[0;34m.\u001b[0m\u001b[0mpyplot\u001b[0m \u001b[0;32mas\u001b[0m \u001b[0mplt\u001b[0m\u001b[0;34m\u001b[0m\u001b[0;34m\u001b[0m\u001b[0m\n\u001b[1;32m      5\u001b[0m \u001b[0;32mimport\u001b[0m \u001b[0mseaborn\u001b[0m \u001b[0;32mas\u001b[0m \u001b[0msns\u001b[0m\u001b[0;34m\u001b[0m\u001b[0;34m\u001b[0m\u001b[0m\n",
      "\u001b[0;31mModuleNotFoundError\u001b[0m: No module named 'pandas'"
     ]
    }
   ],
   "source": [
    "import pandas as pd\n",
    "import numpy as np\n",
    "import datetime\n",
    "import matplotlib.pyplot as plt\n",
    "import seaborn as sns"
   ]
  },
  {
   "cell_type": "code",
   "execution_count": null,
   "id": "54512dba",
   "metadata": {},
   "outputs": [],
   "source": [
    "plt.rcParams['figure.figsize'] = 14, 6\n",
    "sns.set()"
   ]
  },
  {
   "cell_type": "markdown",
   "id": "c4aa00fc",
   "metadata": {},
   "source": [
    "## Part 1: Exploratory Data Analysis"
   ]
  },
  {
   "cell_type": "markdown",
   "id": "833bab26",
   "metadata": {},
   "source": [
    "Understanding the data is an important part of a data scientist's daily tasks. <br>\n",
    "Please provide visualizations where necessary, and at the end, write a short summary of what you have learned from the data. <br>\n",
    "*We recommend that you spend roughly 1/3 - 1/4 of your test assignment time on this part.*"
   ]
  },
  {
   "cell_type": "markdown",
   "id": "ab84caed",
   "metadata": {
    "tags": []
   },
   "source": [
    "Things you could look at:\n",
    "- distribution of game genres\n",
    "- distribution of sentiments among genres\n",
    "- average amount of playtime \n",
    "- most popular games among users in term of playtime, recommendations, etc.\n",
    "- etc."
   ]
  },
  {
   "cell_type": "markdown",
   "id": "84f77275",
   "metadata": {},
   "source": [
    "**Summary**\n"
   ]
  },
  {
   "cell_type": "markdown",
   "id": "222b40fd",
   "metadata": {},
   "source": [
    "## Part 2: Modeling"
   ]
  },
  {
   "cell_type": "markdown",
   "id": "1830b566",
   "metadata": {},
   "source": [
    "### 2.1 Predict whether a user would recommend a game or not"
   ]
  },
  {
   "cell_type": "markdown",
   "id": "51cc30e0",
   "metadata": {},
   "source": [
    "#### Feature engineering"
   ]
  },
  {
   "cell_type": "markdown",
   "id": "c0c8a969",
   "metadata": {},
   "source": [
    "#### Baseline model\n",
    "It's good practice to quickly come up with a baseline model, and iterate from there. <br>\n",
    "For example, a naive model: always recommend the most popular games."
   ]
  },
  {
   "cell_type": "markdown",
   "id": "23f74d62",
   "metadata": {},
   "source": [
    "#### ML Model\n",
    "Learn from the data and predict rating."
   ]
  },
  {
   "cell_type": "markdown",
   "id": "4cb869ee",
   "metadata": {},
   "source": [
    "#### Model(s) Evaluation\n",
    "Evaluate your model(s) with appropriate metrics"
   ]
  },
  {
   "cell_type": "markdown",
   "id": "0a77ed51",
   "metadata": {},
   "source": [
    "#### (Optional) Hyperparameters tuning"
   ]
  },
  {
   "cell_type": "markdown",
   "id": "e2a03949",
   "metadata": {},
   "source": [
    "### 2.2 Game recommendation\n",
    "- Pick a random game of your choice, and recommend 5 similar games.\n",
    "- Pick a random user of your choice, and recommend 5 new games to that user.\n",
    "\n",
    "Do you think your model / approach gives reasonable recommendations?"
   ]
  },
  {
   "cell_type": "markdown",
   "id": "87dd3d07",
   "metadata": {},
   "source": [
    "## Summary\n",
    "- Give us some brief thoughts on your approach to the assignment.\n",
    "- If you could have spent more time on the test assignment, what would you do to improve your model(s)?"
   ]
  }
 ],
 "metadata": {
  "interpreter": {
   "hash": "917c88bc9b00e58545945031d0da36a63c3b3b63e3fa7d3b2f2036592d880239"
  },
  "kernelspec": {
   "display_name": "Python 3.9.5 64-bit ('venv': venv)",
   "name": "python3"
  },
  "language_info": {
   "codemirror_mode": {
    "name": "ipython",
    "version": 3
   },
   "file_extension": ".py",
   "mimetype": "text/x-python",
   "name": "python",
   "nbconvert_exporter": "python",
   "pygments_lexer": "ipython3",
   "version": "3.9.5"
  }
 },
 "nbformat": 4,
 "nbformat_minor": 5
}
